{
  "nbformat": 4,
  "nbformat_minor": 0,
  "metadata": {
    "colab": {
      "provenance": [],
      "authorship_tag": "ABX9TyPIzRl26iev37xyecRclbLx",
      "include_colab_link": true
    },
    "kernelspec": {
      "name": "python3",
      "display_name": "Python 3"
    },
    "language_info": {
      "name": "python"
    }
  },
  "cells": [
    {
      "cell_type": "markdown",
      "metadata": {
        "id": "view-in-github",
        "colab_type": "text"
      },
      "source": [
        "<a href=\"https://colab.research.google.com/github/heysourin/TensorFlow-and-Computer-Vision/blob/main/Tensors%20and%20Variables(Part%201)/TensorFlow_and_CV_FCC.ipynb\" target=\"_parent\"><img src=\"https://colab.research.google.com/assets/colab-badge.svg\" alt=\"Open In Colab\"/></a>"
      ]
    },
    {
      "cell_type": "code",
      "execution_count": null,
      "metadata": {
        "id": "597B6gkbAe3n"
      },
      "outputs": [],
      "source": [
        "import tensorflow as tf"
      ]
    },
    {
      "cell_type": "markdown",
      "source": [
        "# ***Initialization and Casting***"
      ],
      "metadata": {
        "id": "fi8zumiilNj0"
      }
    },
    {
      "cell_type": "code",
      "source": [
        "tensor_zero_d = tf.constant(4)\n",
        "print(tensor_zero_d)"
      ],
      "metadata": {
        "colab": {
          "base_uri": "https://localhost:8080/"
        },
        "id": "_vPNfIJVXrKI",
        "outputId": "0692ee91-ec5f-4ce8-c497-b1dd045d3528"
      },
      "execution_count": null,
      "outputs": [
        {
          "output_type": "stream",
          "name": "stdout",
          "text": [
            "tf.Tensor(4, shape=(), dtype=int32)\n"
          ]
        }
      ]
    },
    {
      "cell_type": "code",
      "source": [
        "tensor_one_d = tf.constant([4, 3, 2])\n",
        "print(tensor_one_d)"
      ],
      "metadata": {
        "colab": {
          "base_uri": "https://localhost:8080/"
        },
        "id": "WwEmmuNPX07w",
        "outputId": "f16d9e90-1e9a-4738-db3e-34f4fd86ecf3"
      },
      "execution_count": null,
      "outputs": [
        {
          "output_type": "stream",
          "name": "stdout",
          "text": [
            "tf.Tensor([4 3 2], shape=(3,), dtype=int32)\n"
          ]
        }
      ]
    },
    {
      "cell_type": "code",
      "source": [
        "tensor_two_d = tf.constant([[4, 3, 2],[3, 2, 5], [12, 11, 10]])\n",
        "print(tensor_two_d)"
      ],
      "metadata": {
        "colab": {
          "base_uri": "https://localhost:8080/"
        },
        "id": "K2LxXczMYZoA",
        "outputId": "dc20f0e2-8359-4647-d042-29326e7964db"
      },
      "execution_count": null,
      "outputs": [
        {
          "output_type": "stream",
          "name": "stdout",
          "text": [
            "tf.Tensor(\n",
            "[[ 4  3  2]\n",
            " [ 3  2  5]\n",
            " [12 11 10]], shape=(3, 3), dtype=int32)\n"
          ]
        }
      ]
    },
    {
      "cell_type": "code",
      "source": [
        "tensor_three_d = tf.constant([[ [4, 3, 2],\n",
        "                                [3, 2, 5],\n",
        "                                [12, 11, 10]\n",
        "                              ],\n",
        "\n",
        "                              [ [4, 3, 2],\n",
        "                                [3, 2, 5],\n",
        "                                [12, 11, 10]\n",
        "                              ]\n",
        "                            ])\n",
        "print(tensor_three_d)"
      ],
      "metadata": {
        "colab": {
          "base_uri": "https://localhost:8080/"
        },
        "id": "FD9isM9ZYjtu",
        "outputId": "b8719008-1cd5-4156-bd06-6272bff7ea1d"
      },
      "execution_count": null,
      "outputs": [
        {
          "output_type": "stream",
          "name": "stdout",
          "text": [
            "tf.Tensor(\n",
            "[[[ 4  3  2]\n",
            "  [ 3  2  5]\n",
            "  [12 11 10]]\n",
            "\n",
            " [[ 4  3  2]\n",
            "  [ 3  2  5]\n",
            "  [12 11 10]]], shape=(2, 3, 3), dtype=int32)\n"
          ]
        }
      ]
    },
    {
      "cell_type": "markdown",
      "source": [
        "# **ones_like**"
      ],
      "metadata": {
        "id": "hU3OT7QkEsW8"
      }
    },
    {
      "cell_type": "code",
      "source": [
        "original_tensor = tf.constant(\n",
        "    [[1,  2,  3],\n",
        "     [4,  5,  6],\n",
        "     [7,  8,  9]])\n",
        "ones_like_tensor = tf.ones_like(original_tensor)\n",
        "ones_like_tensor"
      ],
      "metadata": {
        "colab": {
          "base_uri": "https://localhost:8080/"
        },
        "id": "sVlVyI-nAwig",
        "outputId": "7625e48d-93f4-465c-9c3a-b115b2dec73e"
      },
      "execution_count": null,
      "outputs": [
        {
          "output_type": "execute_result",
          "data": {
            "text/plain": [
              "<tf.Tensor: shape=(3, 3), dtype=int32, numpy=\n",
              "array([[1, 1, 1],\n",
              "       [1, 1, 1],\n",
              "       [1, 1, 1]], dtype=int32)>"
            ]
          },
          "metadata": {},
          "execution_count": 2
        }
      ]
    },
    {
      "cell_type": "markdown",
      "source": [
        "# ***Ones***"
      ],
      "metadata": {
        "id": "7yN3co7hEwKp"
      }
    },
    {
      "cell_type": "code",
      "source": [
        "one_tensor = tf.ones(\n",
        "    [5, 3, 2],\n",
        "    dtype=tf.dtypes.float32,\n",
        "    name=None\n",
        ")\n",
        "one_tensor"
      ],
      "metadata": {
        "colab": {
          "base_uri": "https://localhost:8080/"
        },
        "id": "TVFRD-PcDY69",
        "outputId": "d9337222-f836-4eb7-e2f1-3e733dabe55b"
      },
      "execution_count": null,
      "outputs": [
        {
          "output_type": "execute_result",
          "data": {
            "text/plain": [
              "<tf.Tensor: shape=(5, 3, 2), dtype=float32, numpy=\n",
              "array([[[1., 1.],\n",
              "        [1., 1.],\n",
              "        [1., 1.]],\n",
              "\n",
              "       [[1., 1.],\n",
              "        [1., 1.],\n",
              "        [1., 1.]],\n",
              "\n",
              "       [[1., 1.],\n",
              "        [1., 1.],\n",
              "        [1., 1.]],\n",
              "\n",
              "       [[1., 1.],\n",
              "        [1., 1.],\n",
              "        [1., 1.]],\n",
              "\n",
              "       [[1., 1.],\n",
              "        [1., 1.],\n",
              "        [1., 1.]]], dtype=float32)>"
            ]
          },
          "metadata": {},
          "execution_count": 3
        }
      ]
    },
    {
      "cell_type": "markdown",
      "source": [
        "#**Zeros**"
      ],
      "metadata": {
        "id": "WZPE4nAxF9Nd"
      }
    },
    {
      "cell_type": "code",
      "source": [
        "zeros_tensor = tf.zeros(\n",
        "    [5, 3, 2],\n",
        "    dtype=tf.dtypes.float32,\n",
        "    name=None\n",
        ")\n",
        "zeros_tensor"
      ],
      "metadata": {
        "colab": {
          "base_uri": "https://localhost:8080/"
        },
        "id": "tpy8T9DiFawp",
        "outputId": "ba083dcf-79ac-4aa6-e5ae-d193855df8f1"
      },
      "execution_count": null,
      "outputs": [
        {
          "output_type": "execute_result",
          "data": {
            "text/plain": [
              "<tf.Tensor: shape=(5, 3, 2), dtype=float32, numpy=\n",
              "array([[[0., 0.],\n",
              "        [0., 0.],\n",
              "        [0., 0.]],\n",
              "\n",
              "       [[0., 0.],\n",
              "        [0., 0.],\n",
              "        [0., 0.]],\n",
              "\n",
              "       [[0., 0.],\n",
              "        [0., 0.],\n",
              "        [0., 0.]],\n",
              "\n",
              "       [[0., 0.],\n",
              "        [0., 0.],\n",
              "        [0., 0.]],\n",
              "\n",
              "       [[0., 0.],\n",
              "        [0., 0.],\n",
              "        [0., 0.]]], dtype=float32)>"
            ]
          },
          "metadata": {},
          "execution_count": 4
        }
      ]
    },
    {
      "cell_type": "markdown",
      "source": [
        "### Shape"
      ],
      "metadata": {
        "id": "E9J-9-38GWhU"
      }
    },
    {
      "cell_type": "code",
      "source": [
        "original_tensor = tf.constant(\n",
        "    [[1,  2,  3],\n",
        "     [4,  5,  6],\n",
        "     [7,  8,  9]])\n",
        "print(original_tensor.shape)\n",
        "print(tf.shape(original_tensor))"
      ],
      "metadata": {
        "colab": {
          "base_uri": "https://localhost:8080/"
        },
        "id": "9EEWCb3kGNND",
        "outputId": "9f41398d-7dc6-41b4-f8ac-71574b60f472"
      },
      "execution_count": null,
      "outputs": [
        {
          "output_type": "stream",
          "name": "stdout",
          "text": [
            "(3, 3)\n",
            "tf.Tensor([3 3], shape=(2,), dtype=int32)\n"
          ]
        }
      ]
    },
    {
      "cell_type": "markdown",
      "source": [
        "# **Rank: Returns rank of a tensor**"
      ],
      "metadata": {
        "id": "Kiz4WmjzGjaZ"
      }
    },
    {
      "cell_type": "code",
      "source": [
        "tensor_rank = tf.constant(\n",
        "    [[1,  2,  3],\n",
        "     [4,  5,  6],\n",
        "     [7,  8,  9]])\n",
        "tf.rank(tensor_rank)"
      ],
      "metadata": {
        "colab": {
          "base_uri": "https://localhost:8080/"
        },
        "id": "7Zg8T7NYGa8s",
        "outputId": "d2229cea-a166-49bc-caa4-dbcdb238e53c"
      },
      "execution_count": null,
      "outputs": [
        {
          "output_type": "execute_result",
          "data": {
            "text/plain": [
              "<tf.Tensor: shape=(), dtype=int32, numpy=2>"
            ]
          },
          "metadata": {},
          "execution_count": 6
        }
      ]
    },
    {
      "cell_type": "markdown",
      "source": [
        "#**Size: Num of different elements**"
      ],
      "metadata": {
        "id": "Ewlqo7k7H955"
      }
    },
    {
      "cell_type": "code",
      "source": [
        "tensor_size = tf.constant(\n",
        "    [[1,  2,  3],\n",
        "     [4,  5,  6],\n",
        "     [7,  8,  9]])\n",
        "\n",
        "tf.size(tensor_size)"
      ],
      "metadata": {
        "colab": {
          "base_uri": "https://localhost:8080/"
        },
        "id": "kx9pK0fsGwE0",
        "outputId": "8b09c773-84a0-4141-912c-9c00582d1f09"
      },
      "execution_count": null,
      "outputs": [
        {
          "output_type": "execute_result",
          "data": {
            "text/plain": [
              "<tf.Tensor: shape=(), dtype=int32, numpy=9>"
            ]
          },
          "metadata": {},
          "execution_count": 7
        }
      ]
    },
    {
      "cell_type": "markdown",
      "source": [
        "# **Normal**"
      ],
      "metadata": {
        "id": "yzovzXi0Vs4b"
      }
    },
    {
      "cell_type": "code",
      "source": [
        "tf_normal = tf.random.normal(\n",
        "    [3,3],\n",
        "    mean=0.0,\n",
        "    stddev=1.0,\n",
        "    dtype=tf.dtypes.float32,\n",
        "    seed=None,\n",
        "    name=None\n",
        ")\n",
        "tf_normal"
      ],
      "metadata": {
        "id": "HVonuQiWIGOn",
        "colab": {
          "base_uri": "https://localhost:8080/"
        },
        "outputId": "33a6b705-d663-4f94-f3f0-ef0730e9709a"
      },
      "execution_count": null,
      "outputs": [
        {
          "output_type": "execute_result",
          "data": {
            "text/plain": [
              "<tf.Tensor: shape=(3, 3), dtype=float32, numpy=\n",
              "array([[ 7.9316288e-01,  8.6553556e-01, -1.9717592e-01],\n",
              "       [ 2.2465920e+00, -4.1721080e-04, -2.1613482e-01],\n",
              "       [-5.7420164e-01, -2.2022457e-01, -1.3635434e+00]], dtype=float32)>"
            ]
          },
          "metadata": {},
          "execution_count": 11
        }
      ]
    },
    {
      "cell_type": "code",
      "source": [
        "tf_normal2 = tf.random.normal(\n",
        "    [3,3],\n",
        "    mean=100.0, #!\n",
        "    stddev=1.0,\n",
        "    dtype=tf.dtypes.float32,\n",
        "    seed=None,\n",
        "    name=None\n",
        ")\n",
        "tf_normal2"
      ],
      "metadata": {
        "colab": {
          "base_uri": "https://localhost:8080/"
        },
        "id": "GWlH5PdQW68l",
        "outputId": "7a67ce67-b439-46ec-bbc6-74cf2bb5d24a"
      },
      "execution_count": null,
      "outputs": [
        {
          "output_type": "execute_result",
          "data": {
            "text/plain": [
              "<tf.Tensor: shape=(3, 3), dtype=float32, numpy=\n",
              "array([[100.56024 , 100.444466,  99.96849 ],\n",
              "       [ 98.81578 ,  99.34578 , 101.18261 ],\n",
              "       [100.21295 , 101.20579 ,  99.16629 ]], dtype=float32)>"
            ]
          },
          "metadata": {},
          "execution_count": 13
        }
      ]
    },
    {
      "cell_type": "code",
      "source": [
        "tf_normal3 = tf.random.normal(\n",
        "    [3,3],\n",
        "    mean=100.0, #!\n",
        "    stddev=10,\n",
        "    dtype=tf.dtypes.float32,\n",
        "    seed=None,\n",
        "    name=None\n",
        ")\n",
        "tf_normal3"
      ],
      "metadata": {
        "colab": {
          "base_uri": "https://localhost:8080/"
        },
        "id": "QvVDsV4jXIkm",
        "outputId": "ab8d0dff-84f8-4765-ba3e-9babea1f21df"
      },
      "execution_count": null,
      "outputs": [
        {
          "output_type": "execute_result",
          "data": {
            "text/plain": [
              "<tf.Tensor: shape=(3, 3), dtype=float32, numpy=\n",
              "array([[108.58706 ,  98.85367 ,  93.934814],\n",
              "       [101.46122 , 104.95883 ,  97.813385],\n",
              "       [ 99.795334,  99.85503 , 102.83005 ]], dtype=float32)>"
            ]
          },
          "metadata": {},
          "execution_count": 2
        }
      ]
    },
    {
      "cell_type": "markdown",
      "source": [
        "# **Uniform**"
      ],
      "metadata": {
        "id": "3qPUiF8ocu29"
      }
    },
    {
      "cell_type": "code",
      "source": [
        "tf_uniform = tf.random.uniform(\n",
        "    [3,3],\n",
        "    minval=0,\n",
        "    maxval=None,\n",
        "    dtype=tf.dtypes.float32,\n",
        "    seed=None,\n",
        "    name=None\n",
        ")\n",
        "tf_uniform"
      ],
      "metadata": {
        "colab": {
          "base_uri": "https://localhost:8080/"
        },
        "id": "54uDwFhfatsl",
        "outputId": "9fa71def-6b19-408b-cae7-2bb3db004e1d"
      },
      "execution_count": null,
      "outputs": [
        {
          "output_type": "execute_result",
          "data": {
            "text/plain": [
              "<tf.Tensor: shape=(3, 3), dtype=float32, numpy=\n",
              "array([[0.28917706, 0.7877675 , 0.5562624 ],\n",
              "       [0.15344977, 0.8632604 , 0.24915886],\n",
              "       [0.8246844 , 0.4487188 , 0.94650054]], dtype=float32)>"
            ]
          },
          "metadata": {},
          "execution_count": 24
        }
      ]
    },
    {
      "cell_type": "code",
      "source": [
        "tf_uniform2 = tf.random.uniform(\n",
        "    [3,3],\n",
        "    minval=2, #!\n",
        "    maxval=10, #!\n",
        "    dtype=tf.dtypes.float32,\n",
        "    seed=None,\n",
        "    name=None\n",
        ")\n",
        "tf_uniform2"
      ],
      "metadata": {
        "colab": {
          "base_uri": "https://localhost:8080/"
        },
        "id": "Mlh1loxCc6WS",
        "outputId": "5b79cdc4-db17-4ef2-fe84-1a21e3bbe847"
      },
      "execution_count": null,
      "outputs": [
        {
          "output_type": "execute_result",
          "data": {
            "text/plain": [
              "<tf.Tensor: shape=(3, 3), dtype=float32, numpy=\n",
              "array([[6.5176716, 9.9999075, 5.8382587],\n",
              "       [5.65331  , 4.8939734, 5.3568525],\n",
              "       [2.7444963, 8.1372175, 3.1233387]], dtype=float32)>"
            ]
          },
          "metadata": {},
          "execution_count": 25
        }
      ]
    },
    {
      "cell_type": "code",
      "source": [
        "tf_uniform2 = tf.random.uniform(\n",
        "    [3,3],\n",
        "    minval=2, #!\n",
        "    maxval=8, #!\n",
        "    dtype=tf.dtypes.int32,\n",
        "    seed=None,\n",
        "    name=None\n",
        ")\n",
        "tf_uniform2"
      ],
      "metadata": {
        "colab": {
          "base_uri": "https://localhost:8080/"
        },
        "id": "DqGDpOFadJV-",
        "outputId": "84fccdf6-e904-49a1-a297-76be86f4c2d5"
      },
      "execution_count": null,
      "outputs": [
        {
          "output_type": "execute_result",
          "data": {
            "text/plain": [
              "<tf.Tensor: shape=(3, 3), dtype=int32, numpy=\n",
              "array([[6, 2, 7],\n",
              "       [7, 6, 4],\n",
              "       [4, 7, 2]], dtype=int32)>"
            ]
          },
          "metadata": {},
          "execution_count": 26
        }
      ]
    },
    {
      "cell_type": "markdown",
      "source": [
        "#**Basic Initializing and Casting Indexing**"
      ],
      "metadata": {
        "id": "senFC_wVTYvw"
      }
    },
    {
      "cell_type": "code",
      "source": [
        "tensor_indexed = tf.constant([3, 6, 2, 4 ,6, 66, 7])\n",
        "print(tensor_indexed)\n",
        "print(tensor_indexed[1:4])\n",
        "print(tensor_indexed[:4]) # from 0th to 3rd index\n",
        "print(tensor_indexed[2:]) # 2 to till end\n",
        "print(tensor_indexed[0:-1])"
      ],
      "metadata": {
        "id": "WuQ1DztClffU",
        "colab": {
          "base_uri": "https://localhost:8080/"
        },
        "outputId": "34587eca-c070-4e9a-ed6f-36b686c2785e"
      },
      "execution_count": null,
      "outputs": [
        {
          "output_type": "stream",
          "name": "stdout",
          "text": [
            "tf.Tensor([ 3  6  2  4  6 66  7], shape=(7,), dtype=int32)\n",
            "tf.Tensor([6 2 4], shape=(3,), dtype=int32)\n",
            "tf.Tensor([3 6 2 4], shape=(4,), dtype=int32)\n",
            "tf.Tensor([ 2  4  6 66  7], shape=(5,), dtype=int32)\n",
            "tf.Tensor([ 3  6  2  4  6 66], shape=(6,), dtype=int32)\n"
          ]
        }
      ]
    },
    {
      "cell_type": "code",
      "source": [
        "tensor_two_d = tf.constant([[1,2,0],\n",
        "                            [3,5,-1],\n",
        "                            [1,5,6],\n",
        "                            [2,3,8]\n",
        "                            ])\n",
        "print(tensor_two_d)\n",
        "print(\"--------------------------------------\")\n",
        "print(tensor_two_d[0,1])\n",
        "print(\"--------------------------------------\")\n",
        "print(tensor_two_d[2,2])\n",
        "print(\"--------------------------------------\")\n",
        "print(tensor_two_d[0:3,0:2])\n",
        "print(\"--------------------------------------\")\n",
        "print(tensor_two_d[0:3,:])"
      ],
      "metadata": {
        "colab": {
          "base_uri": "https://localhost:8080/"
        },
        "id": "0b-dhGbNTogv",
        "outputId": "5e134d80-0d1d-4460-e0d7-feedc5daa224"
      },
      "execution_count": null,
      "outputs": [
        {
          "output_type": "stream",
          "name": "stdout",
          "text": [
            "tf.Tensor(\n",
            "[[ 1  2  0]\n",
            " [ 3  5 -1]\n",
            " [ 1  5  6]\n",
            " [ 2  3  8]], shape=(4, 3), dtype=int32)\n",
            "--------------------------------------\n",
            "tf.Tensor(2, shape=(), dtype=int32)\n",
            "--------------------------------------\n",
            "tf.Tensor(6, shape=(), dtype=int32)\n",
            "--------------------------------------\n",
            "tf.Tensor(\n",
            "[[1 2]\n",
            " [3 5]\n",
            " [1 5]], shape=(3, 2), dtype=int32)\n",
            "--------------------------------------\n",
            "tf.Tensor(\n",
            "[[ 1  2  0]\n",
            " [ 3  5 -1]\n",
            " [ 1  5  6]], shape=(3, 3), dtype=int32)\n"
          ]
        }
      ]
    },
    {
      "cell_type": "code",
      "source": [
        "tensor_three_d = tf.constant([\n",
        "           [[1,  2,  3,  4],\n",
        "            [5,  6,  7,  8],\n",
        "            [9,  10,  11,  12]],\n",
        "\n",
        "          [[13,  14,  15,  16],\n",
        "           [17,  18,  19,  20],\n",
        "           [21,  22,  23,  24]],\n",
        "\n",
        "           [[23,  24,  25,  26],\n",
        "            [27,  28,  29,  30],\n",
        "            [31,  32,  33,  34]],\n",
        "\n",
        "          ])\n",
        "print(tensor_three_d[0,:,:])\n",
        "print(\"--------------------------------------\")\n",
        "print(tensor_three_d[1,1,2])\n",
        "print(\"--------------------------------------\")\n",
        "print(tensor_three_d[1,2,3])"
      ],
      "metadata": {
        "colab": {
          "base_uri": "https://localhost:8080/"
        },
        "id": "i_jpfmMQViMV",
        "outputId": "0b18e5f7-d8f8-46e3-d618-e14b994dbf99"
      },
      "execution_count": null,
      "outputs": [
        {
          "output_type": "stream",
          "name": "stdout",
          "text": [
            "tf.Tensor(\n",
            "[[ 1  2  3  4]\n",
            " [ 5  6  7  8]\n",
            " [ 9 10 11 12]], shape=(3, 4), dtype=int32)\n",
            "--------------------------------------\n",
            "tf.Tensor(19, shape=(), dtype=int32)\n",
            "--------------------------------------\n",
            "tf.Tensor(24, shape=(), dtype=int32)\n"
          ]
        }
      ]
    },
    {
      "cell_type": "markdown",
      "source": [
        "# **Math operations**\n"
      ],
      "metadata": {
        "id": "QZ7baT5quFkl"
      }
    },
    {
      "cell_type": "markdown",
      "source": [
        "### Absolute values"
      ],
      "metadata": {
        "id": "d5GkU7OuwL5h"
      }
    },
    {
      "cell_type": "code",
      "source": [
        "import tensorflow as tf"
      ],
      "metadata": {
        "id": "k0suvOtGY7WL"
      },
      "execution_count": null,
      "outputs": []
    },
    {
      "cell_type": "code",
      "source": [
        "# absolute value --> aka Modulus value in physics or math: makes all value +ve\n",
        "x = tf.constant([-2.25,3.24])\n",
        "print(tf.abs(x))\n",
        "\n",
        "# absolute values for complex numbers: if a + bj then (sqrt(a^2 + b^2))\n",
        "x2 = tf.constant([[-2.25 + 4.75j], [-3.25 + 5.75j]])\n",
        "print(tf.abs(x2))\n",
        "\n",
        "print(\"--------------\")\n",
        "x3 = tf.constant([-2.25 + 4.75j])\n",
        "print(tf.abs(x3))"
      ],
      "metadata": {
        "colab": {
          "base_uri": "https://localhost:8080/"
        },
        "id": "FdL_Ee2Oaiy7",
        "outputId": "62917720-c6c8-4384-9e2a-6e53c146b982"
      },
      "execution_count": null,
      "outputs": [
        {
          "output_type": "stream",
          "name": "stdout",
          "text": [
            "tf.Tensor([2.25 3.24], shape=(2,), dtype=float32)\n",
            "tf.Tensor(\n",
            "[[5.25594901]\n",
            " [6.60492241]], shape=(2, 1), dtype=float64)\n",
            "--------------\n",
            "tf.Tensor([5.25594901], shape=(1,), dtype=float64)\n"
          ]
        }
      ]
    },
    {
      "cell_type": "markdown",
      "source": [
        "### Addition, multiply, subtract, division: Element wise"
      ],
      "metadata": {
        "id": "8rMYh8X7wUte"
      }
    },
    {
      "cell_type": "code",
      "source": [
        "x_1 = tf. constant ([5, 3,6,6,4,6], dtype = tf. int32)\n",
        "x_2 = tf. constant ([7,6,2,6,7,11], dtype = tf.int32)\n",
        "print(tf.add(x_1, x_2))\n",
        "print(tf.multiply(x_1, x_2))\n",
        "print(tf.subtract(x_1, x_2))\n",
        "print(tf.divide(x_1, x_2))\n",
        "print(tf.subtract(x_1, x_2))"
      ],
      "metadata": {
        "colab": {
          "base_uri": "https://localhost:8080/"
        },
        "id": "dfqVbt4ZvJX1",
        "outputId": "2b1a7f84-5ef4-4bb7-c9c8-6ba3e4d13850"
      },
      "execution_count": null,
      "outputs": [
        {
          "output_type": "stream",
          "name": "stdout",
          "text": [
            "tf.Tensor([12  9  8 12 11 17], shape=(6,), dtype=int32)\n",
            "tf.Tensor([35 18 12 36 28 66], shape=(6,), dtype=int32)\n",
            "tf.Tensor([-2 -3  4  0 -3 -5], shape=(6,), dtype=int32)\n",
            "tf.Tensor([0.71428571 0.5        3.         1.         0.57142857 0.54545455], shape=(6,), dtype=float64)\n",
            "tf.Tensor([-2 -3  4  0 -3 -5], shape=(6,), dtype=int32)\n"
          ]
        }
      ]
    },
    {
      "cell_type": "code",
      "source": [
        "x_1 = tf.constant( [5,3,6,6,4,6], dtype = tf.float32)\n",
        "x_2 = tf.constant([7,6,2,6,0,11], dtype = tf.float32)\n",
        "print(tf.math.divide_no_nan(x_1, x_2))"
      ],
      "metadata": {
        "colab": {
          "base_uri": "https://localhost:8080/"
        },
        "id": "C2IVnqy6wWQO",
        "outputId": "5d303342-46db-4b65-e85d-f40337bcdb72"
      },
      "execution_count": null,
      "outputs": [
        {
          "output_type": "stream",
          "name": "stdout",
          "text": [
            "tf.Tensor([0.71428573 0.5        3.         1.         0.         0.54545456], shape=(6,), dtype=float32)\n"
          ]
        }
      ]
    },
    {
      "cell_type": "markdown",
      "source": [
        "### **NOTE:**\n",
        "Both tf.math.add() and tf.add() perform the same operation and will produce identical results. However, tf.add() is slightly more general and can accept additional arguments like name for naming the operation."
      ],
      "metadata": {
        "id": "6giG-aSDbxZr"
      }
    },
    {
      "cell_type": "code",
      "source": [
        "x_1 = tf.constant([5,3,6,6,4,6], dtype = tf.float32)\n",
        "x_2 = tf.constant([7], dtype = tf.float32)\n",
        "print(tf.math.add(x_1, x_2))\n",
        "print(\"-----------------------------------------------------------\")\n",
        "print(tf.add(x_1, x_2))"
      ],
      "metadata": {
        "colab": {
          "base_uri": "https://localhost:8080/"
        },
        "id": "m5rGB_f2ysj-",
        "outputId": "eb6be3b0-3297-49d8-a915-6117bbf05313"
      },
      "execution_count": null,
      "outputs": [
        {
          "output_type": "stream",
          "name": "stdout",
          "text": [
            "tf.Tensor([12. 10. 13. 13. 11. 13.], shape=(6,), dtype=float32)\n",
            "-----------------------------------------------------------\n",
            "tf.Tensor([12. 10. 13. 13. 11. 13.], shape=(6,), dtype=float32)\n"
          ]
        }
      ]
    },
    {
      "cell_type": "code",
      "source": [
        "#!\n",
        "x_1 = tf.constant([[5,3,6,6,4,6]], dtype = tf.float32)\n",
        "x_2 = tf.constant([[7], [5], [3]], dtype = tf.float32)\n",
        "print(x_1. shape)\n",
        "print (x_2. shape)\n",
        "print(tf.math.multiply(x_1, x_2))"
      ],
      "metadata": {
        "colab": {
          "base_uri": "https://localhost:8080/"
        },
        "id": "3qggvZVBzBTG",
        "outputId": "bf5bba03-e2cc-46cc-c056-d7c5e5bbc1eb"
      },
      "execution_count": null,
      "outputs": [
        {
          "output_type": "stream",
          "name": "stdout",
          "text": [
            "(1, 6)\n",
            "(3, 1)\n",
            "tf.Tensor(\n",
            "[[35. 21. 42. 42. 28. 42.]\n",
            " [25. 15. 30. 30. 20. 30.]\n",
            " [15.  9. 18. 18. 12. 18.]], shape=(3, 6), dtype=float32)\n"
          ]
        }
      ]
    },
    {
      "cell_type": "markdown",
      "source": [
        "### Argmax"
      ],
      "metadata": {
        "id": "Fc6Jm7U80nsV"
      }
    },
    {
      "cell_type": "code",
      "source": [
        "A = tf.constant([1, 20, 30, 3, 6])\n",
        "print(tf.math.argmax(A)) # returns the index of the max element\n",
        "print(tf.math.argmin(A))"
      ],
      "metadata": {
        "colab": {
          "base_uri": "https://localhost:8080/"
        },
        "id": "reJDZ14H0WVB",
        "outputId": "1f6d8845-1c1e-480c-bd64-fd0dc6b56279"
      },
      "execution_count": null,
      "outputs": [
        {
          "output_type": "stream",
          "name": "stdout",
          "text": [
            "tf.Tensor(2, shape=(), dtype=int64)\n",
            "tf.Tensor(0, shape=(), dtype=int64)\n"
          ]
        }
      ]
    },
    {
      "cell_type": "code",
      "source": [
        "B = tf.constant([[2, 20, 30, 3, 27],\n",
        "                 [3, 11, 16, 8, 8],\n",
        "                 [14, 45, 23, 5, 6]])\n",
        "print(tf.math.argmax(B)) # here axis=0, finds index of max every col\n",
        "print(tf.math.argmin(B, axis = 1))"
      ],
      "metadata": {
        "colab": {
          "base_uri": "https://localhost:8080/"
        },
        "id": "m-wgaGZl0qms",
        "outputId": "a6f842ef-fe32-4878-dfe7-d43b136b17ac"
      },
      "execution_count": null,
      "outputs": [
        {
          "output_type": "stream",
          "name": "stdout",
          "text": [
            "tf.Tensor([2 2 0 1 0], shape=(5,), dtype=int64)\n",
            "tf.Tensor([0 0 3], shape=(3,), dtype=int64)\n"
          ]
        }
      ]
    },
    {
      "cell_type": "markdown",
      "source": [
        "### Compare"
      ],
      "metadata": {
        "id": "G0BHXMe16CUT"
      }
    },
    {
      "cell_type": "code",
      "source": [
        "x = tf.constant([2, 4])\n",
        "y = tf.constant(2)\n",
        "tf.math.equal(x, y)"
      ],
      "metadata": {
        "colab": {
          "base_uri": "https://localhost:8080/"
        },
        "id": "Q_xGHRbb1NcC",
        "outputId": "becc882d-7130-44e9-e290-d6b2369c1f45"
      },
      "execution_count": null,
      "outputs": [
        {
          "output_type": "execute_result",
          "data": {
            "text/plain": [
              "<tf.Tensor: shape=(2,), dtype=bool, numpy=array([ True, False])>"
            ]
          },
          "metadata": {},
          "execution_count": 16
        }
      ]
    },
    {
      "cell_type": "code",
      "source": [
        "x = tf.constant([2, 4])\n",
        "y = tf.constant([2, 4])\n",
        "tf.math.equal(x, y)"
      ],
      "metadata": {
        "colab": {
          "base_uri": "https://localhost:8080/"
        },
        "id": "fWSe5CA16MER",
        "outputId": "dc0e0019-9829-4d99-f29b-b49b6d1db7c1"
      },
      "execution_count": null,
      "outputs": [
        {
          "output_type": "execute_result",
          "data": {
            "text/plain": [
              "<tf.Tensor: shape=(2,), dtype=bool, numpy=array([ True,  True])>"
            ]
          },
          "metadata": {},
          "execution_count": 30
        }
      ]
    },
    {
      "cell_type": "markdown",
      "source": [
        "### Power"
      ],
      "metadata": {
        "id": "Eb-H_pP-6Y2V"
      }
    },
    {
      "cell_type": "code",
      "source": [
        "x = tf.constant([[2, 2], [3, 3]])\n",
        "y = tf.constant([[5, 4], [2, 3]])\n",
        "tf.pow(x, y)"
      ],
      "metadata": {
        "colab": {
          "base_uri": "https://localhost:8080/"
        },
        "id": "RufIo8Im6PJy",
        "outputId": "3eac76d6-3578-49ad-8443-e90b0b6f579f"
      },
      "execution_count": null,
      "outputs": [
        {
          "output_type": "execute_result",
          "data": {
            "text/plain": [
              "<tf.Tensor: shape=(2, 2), dtype=int32, numpy=\n",
              "array([[32, 16],\n",
              "       [ 9, 27]], dtype=int32)>"
            ]
          },
          "metadata": {},
          "execution_count": 32
        }
      ]
    },
    {
      "cell_type": "code",
      "source": [
        "tf.pow(tf.constant(2), tf.constant(3))"
      ],
      "metadata": {
        "colab": {
          "base_uri": "https://localhost:8080/"
        },
        "id": "i1PZ0Ds16aOx",
        "outputId": "29fcad4b-7d34-4482-847c-6ac92f82d1a2"
      },
      "execution_count": null,
      "outputs": [
        {
          "output_type": "execute_result",
          "data": {
            "text/plain": [
              "<tf.Tensor: shape=(), dtype=int32, numpy=8>"
            ]
          },
          "metadata": {},
          "execution_count": 33
        }
      ]
    },
    {
      "cell_type": "code",
      "source": [
        "tensor_two_d = tf.constant([[4, 3, 2],\n",
        "                            [3, 2, 5],\n",
        "                            [12, 11, 10]])\n",
        "print(tf.math.reduce_sum(tensor_two_d, axis=None, keepdims=False, name=None))"
      ],
      "metadata": {
        "colab": {
          "base_uri": "https://localhost:8080/"
        },
        "id": "yxX__Igf6o4F",
        "outputId": "202ff2a1-58a7-4e04-a160-639a67d41288"
      },
      "execution_count": null,
      "outputs": [
        {
          "output_type": "stream",
          "name": "stdout",
          "text": [
            "tf.Tensor(52, shape=(), dtype=int32)\n"
          ]
        }
      ]
    },
    {
      "cell_type": "code",
      "source": [
        "tensor = tf.constant([[1, 2, 3],\n",
        "                      [4, 5, 6]])\n",
        "\n",
        "print(tf.math.reduce_sum(tensor, axis=None, keepdims=False, name=None))\n",
        "\n",
        "print(tf.math.reduce_sum(tensor, axis=1, keepdims=False, name=None))\n",
        "\n",
        "print(tf.math.reduce_sum(tensor, axis=0, keepdims=False, name=None))\n",
        "\n",
        "\"\"\"\n",
        "axis=0 --> column wise sum\n",
        "axis=1 --> row wise sum\n",
        "\"\"\""
      ],
      "metadata": {
        "id": "kdLdF4KW62L1",
        "colab": {
          "base_uri": "https://localhost:8080/"
        },
        "outputId": "ccda9027-9e5a-497a-b542-6694c106c1d7"
      },
      "execution_count": null,
      "outputs": [
        {
          "output_type": "stream",
          "name": "stdout",
          "text": [
            "tf.Tensor(21, shape=(), dtype=int32)\n",
            "tf.Tensor([ 6 15], shape=(2,), dtype=int32)\n",
            "tf.Tensor([5 7 9], shape=(3,), dtype=int32)\n"
          ]
        }
      ]
    },
    {
      "cell_type": "code",
      "source": [
        "tensor = tf.constant([[1, 2, 3],\n",
        "                      [4, 5, 6]])\n",
        "\n"
      ],
      "metadata": {
        "id": "hghtBHE5laLS"
      },
      "execution_count": null,
      "outputs": []
    },
    {
      "cell_type": "markdown",
      "source": [
        "## **Ragged Tensor**"
      ],
      "metadata": {
        "id": "9L8zf7uZV9vL"
      }
    },
    {
      "cell_type": "code",
      "source": [
        "import tensorflow as tf"
      ],
      "metadata": {
        "id": "Jj9T0SZ3WjOH"
      },
      "execution_count": 1,
      "outputs": []
    },
    {
      "cell_type": "code",
      "source": [
        "tensor_two_d = ([[4, 3, 2],\n",
        "                [3,],\n",
        "                [1, 5, 6],\n",
        "                [2, 3]])\n",
        "\n",
        "# tensor_two_d = tf.constant(tensor_two_d) # Gives error\n",
        "\"\"\"\n",
        "You see in the above array different row has different columns,\n",
        "the way TensorFlow deals with these types of data is called Ragged Tensors.\n",
        "\"\"\"\n",
        "tensor_ragged = tf.ragged.constant(tensor_two_d)\n",
        "print(tensor_ragged.shape)\n",
        "print(\"-----------------------------------\")\n",
        "print(tensor_ragged)"
      ],
      "metadata": {
        "colab": {
          "base_uri": "https://localhost:8080/"
        },
        "id": "SBnkqamgV_Qx",
        "outputId": "6871651c-8a25-41dd-abae-41954be571c2"
      },
      "execution_count": null,
      "outputs": [
        {
          "output_type": "stream",
          "name": "stdout",
          "text": [
            "(4, None)\n",
            "-----------------------------------\n",
            "<tf.RaggedTensor [[4, 3, 2], [3], [1, 5, 6], [2, 3]]>\n"
          ]
        }
      ]
    },
    {
      "cell_type": "code",
      "source": [
        "tensor_two_d = ([[4, 3, 2],\n",
        "                [3,],\n",
        "                [1, 5, 6],\n",
        "                [2, 3]])\n",
        "\n",
        "tensor_ragged = tf.ragged.constant(tensor_two_d)\n",
        "print(tensor_ragged)"
      ],
      "metadata": {
        "colab": {
          "base_uri": "https://localhost:8080/"
        },
        "id": "NO8i-SF2WOFC",
        "outputId": "e5b8223e-23c7-4da3-ba87-9e69066e7441"
      },
      "execution_count": null,
      "outputs": [
        {
          "output_type": "stream",
          "name": "stdout",
          "text": [
            "<tf.RaggedTensor [[4, 3, 2], [3], [1, 5, 6], [2, 3]]>\n"
          ]
        }
      ]
    },
    {
      "cell_type": "code",
      "source": [
        "print(tf.RaggedTensor.from_row_lengths(\n",
        "values = [3, 1, 4, 1, 5, 9, 2, 6],\n",
        "row_lengths=[4, 0, 3, 1,0]))"
      ],
      "metadata": {
        "colab": {
          "base_uri": "https://localhost:8080/"
        },
        "id": "nZ79Os_gY0ml",
        "outputId": "2e89983e-6977-47c1-bbe6-23578ca5e405"
      },
      "execution_count": 2,
      "outputs": [
        {
          "output_type": "stream",
          "name": "stdout",
          "text": [
            "<tf.RaggedTensor [[3, 1, 4, 1], [], [5, 9, 2], [6], []]>\n"
          ]
        }
      ]
    },
    {
      "cell_type": "code",
      "source": [],
      "metadata": {
        "id": "l_wgR2zjY4_3"
      },
      "execution_count": null,
      "outputs": []
    },
    {
      "cell_type": "markdown",
      "source": [
        "## **Sparse Tensors:**"
      ],
      "metadata": {
        "id": "2UdrYGuuZtpU"
      }
    },
    {
      "cell_type": "code",
      "source": [
        "tensor_sparse = tf.sparse.SparseTensor(\n",
        "    indices = [[1,1], [3,4]], values = [11,56], dense_shape = [5,6])"
      ],
      "metadata": {
        "id": "WwsqsEKkZwUm"
      },
      "execution_count": 3,
      "outputs": []
    },
    {
      "cell_type": "code",
      "source": [
        "tensor_sparse"
      ],
      "metadata": {
        "colab": {
          "base_uri": "https://localhost:8080/"
        },
        "id": "jFRZXVUaaAU8",
        "outputId": "a2672cde-f0f7-41a1-92ab-f691d35922a8"
      },
      "execution_count": 4,
      "outputs": [
        {
          "output_type": "execute_result",
          "data": {
            "text/plain": [
              "SparseTensor(indices=tf.Tensor(\n",
              "[[1 1]\n",
              " [3 4]], shape=(2, 2), dtype=int64), values=tf.Tensor([11 56], shape=(2,), dtype=int32), dense_shape=tf.Tensor([5 6], shape=(2,), dtype=int64))"
            ]
          },
          "metadata": {},
          "execution_count": 4
        }
      ]
    },
    {
      "cell_type": "code",
      "source": [
        "tf.sparse.to_dense(tensor_sparse) # Notice 11 is at(1, 1) and 56 is at (3, 4)"
      ],
      "metadata": {
        "colab": {
          "base_uri": "https://localhost:8080/"
        },
        "id": "ej9aB-GjaBn-",
        "outputId": "bbb608b5-951f-4ce7-fb42-7eceba3fad90"
      },
      "execution_count": 5,
      "outputs": [
        {
          "output_type": "execute_result",
          "data": {
            "text/plain": [
              "<tf.Tensor: shape=(5, 6), dtype=int32, numpy=\n",
              "array([[ 0,  0,  0,  0,  0,  0],\n",
              "       [ 0, 11,  0,  0,  0,  0],\n",
              "       [ 0,  0,  0,  0,  0,  0],\n",
              "       [ 0,  0,  0,  0, 56,  0],\n",
              "       [ 0,  0,  0,  0,  0,  0]], dtype=int32)>"
            ]
          },
          "metadata": {},
          "execution_count": 5
        }
      ]
    },
    {
      "cell_type": "markdown",
      "source": [
        "## **Strings:**"
      ],
      "metadata": {
        "id": "uCLZMvIqVtJh"
      }
    },
    {
      "cell_type": "code",
      "source": [
        "tf_string = tf.constant([\"Hello\", \"there\"])\n",
        "tf_string"
      ],
      "metadata": {
        "colab": {
          "base_uri": "https://localhost:8080/"
        },
        "id": "9ea0ezmsaPRk",
        "outputId": "d99e6834-99a2-44dc-ee34-3c314511f438"
      },
      "execution_count": null,
      "outputs": [
        {
          "output_type": "execute_result",
          "data": {
            "text/plain": [
              "<tf.Tensor: shape=(2,), dtype=string, numpy=array([b'Hello', b'there'], dtype=object)>"
            ]
          },
          "metadata": {},
          "execution_count": 43
        }
      ]
    },
    {
      "cell_type": "code",
      "source": [
        "tf.strings.join(tf_string, separator=\" \")"
      ],
      "metadata": {
        "colab": {
          "base_uri": "https://localhost:8080/"
        },
        "id": "JOiH-vBqa0fH",
        "outputId": "407ae7d8-6fc2-4ca5-916f-a79e52701a80"
      },
      "execution_count": null,
      "outputs": [
        {
          "output_type": "execute_result",
          "data": {
            "text/plain": [
              "<tf.Tensor: shape=(), dtype=string, numpy=b'Hello there'>"
            ]
          },
          "metadata": {},
          "execution_count": 45
        }
      ]
    },
    {
      "cell_type": "code",
      "source": [
        "tf.strings.length(tf_string)"
      ],
      "metadata": {
        "colab": {
          "base_uri": "https://localhost:8080/"
        },
        "id": "Hneu1I72a_4f",
        "outputId": "19c7af1f-75af-4f93-c042-26afdb15dac3"
      },
      "execution_count": null,
      "outputs": [
        {
          "output_type": "execute_result",
          "data": {
            "text/plain": [
              "<tf.Tensor: shape=(2,), dtype=int32, numpy=array([5, 5], dtype=int32)>"
            ]
          },
          "metadata": {},
          "execution_count": 47
        }
      ]
    },
    {
      "cell_type": "markdown",
      "source": [
        "## **Variables**"
      ],
      "metadata": {
        "id": "PervqlsJV1CG"
      }
    },
    {
      "cell_type": "code",
      "source": [
        "x = tf.constant([1,2])"
      ],
      "metadata": {
        "id": "xdQaQyPnbHlV"
      },
      "execution_count": 7,
      "outputs": []
    },
    {
      "cell_type": "code",
      "source": [
        "x_var = tf.Variable(x, name='var1')\n",
        "x_var"
      ],
      "metadata": {
        "colab": {
          "base_uri": "https://localhost:8080/"
        },
        "id": "kwcqKn5PV6lq",
        "outputId": "6a3864be-9105-49b3-905c-944e6af9293d"
      },
      "execution_count": 8,
      "outputs": [
        {
          "output_type": "execute_result",
          "data": {
            "text/plain": [
              "<tf.Variable 'var1:0' shape=(2,) dtype=int32, numpy=array([1, 2], dtype=int32)>"
            ]
          },
          "metadata": {},
          "execution_count": 8
        }
      ]
    },
    {
      "cell_type": "code",
      "source": [
        "x_var.assign_sub([3, 4])"
      ],
      "metadata": {
        "colab": {
          "base_uri": "https://localhost:8080/"
        },
        "id": "8-MVifZrWBWi",
        "outputId": "27fe7225-fd2e-4263-e2b3-1a7e0089a4df"
      },
      "execution_count": 10,
      "outputs": [
        {
          "output_type": "execute_result",
          "data": {
            "text/plain": [
              "<tf.Variable 'UnreadVariable' shape=(2,) dtype=int32, numpy=array([-2, -2], dtype=int32)>"
            ]
          },
          "metadata": {},
          "execution_count": 10
        }
      ]
    },
    {
      "cell_type": "code",
      "source": [
        "x_var.assign_add([3, 4])"
      ],
      "metadata": {
        "colab": {
          "base_uri": "https://localhost:8080/"
        },
        "id": "7oU2lvKuWZ1O",
        "outputId": "85f4a028-b8db-459f-df8b-7b1613e0f030"
      },
      "execution_count": 11,
      "outputs": [
        {
          "output_type": "execute_result",
          "data": {
            "text/plain": [
              "<tf.Variable 'UnreadVariable' shape=(2,) dtype=int32, numpy=array([1, 2], dtype=int32)>"
            ]
          },
          "metadata": {},
          "execution_count": 11
        }
      ]
    },
    {
      "cell_type": "code",
      "source": [
        "with tf.device('GPU:0'):\n",
        "  x_var = tf.Variable(0.2)\n",
        "  x_tensor = tf.constant(0.2)\n",
        "print(x_var.device)\n",
        "print(x_tensor.device)"
      ],
      "metadata": {
        "colab": {
          "base_uri": "https://localhost:8080/"
        },
        "id": "Q4CAFLcGWqRX",
        "outputId": "b4537fe4-8446-4d14-a168-5d3e66735aee"
      },
      "execution_count": 17,
      "outputs": [
        {
          "output_type": "stream",
          "name": "stdout",
          "text": [
            "/job:localhost/replica:0/task:0/device:CPU:0\n",
            "/job:localhost/replica:0/task:0/device:CPU:0\n"
          ]
        }
      ]
    },
    {
      "cell_type": "code",
      "source": [],
      "metadata": {
        "id": "wI8aYlabXfrB"
      },
      "execution_count": null,
      "outputs": []
    }
  ]
}