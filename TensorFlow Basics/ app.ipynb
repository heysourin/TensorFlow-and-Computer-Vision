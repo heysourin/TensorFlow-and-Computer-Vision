{
  "nbformat": 4,
  "nbformat_minor": 0,
  "metadata": {
    "colab": {
      "provenance": [],
      "authorship_tag": "ABX9TyMKefRGb8NpOXXBaRqp73lR",
      "include_colab_link": true
    },
    "kernelspec": {
      "name": "python3",
      "display_name": "Python 3"
    },
    "language_info": {
      "name": "python"
    }
  },
  "cells": [
    {
      "cell_type": "markdown",
      "metadata": {
        "id": "view-in-github",
        "colab_type": "text"
      },
      "source": [
        "<a href=\"https://colab.research.google.com/github/heysourin/TensorFlow-and-Computer-Vision/blob/main/TensorFlow%20Basics/%20app.ipynb\" target=\"_parent\"><img src=\"https://colab.research.google.com/assets/colab-badge.svg\" alt=\"Open In Colab\"/></a>"
      ]
    },
    {
      "cell_type": "code",
      "execution_count": 2,
      "metadata": {
        "id": "597B6gkbAe3n"
      },
      "outputs": [],
      "source": [
        "import tensorflow as tf"
      ]
    },
    {
      "cell_type": "markdown",
      "source": [
        "# ***Initialization and Casting***"
      ],
      "metadata": {
        "id": "fi8zumiilNj0"
      }
    },
    {
      "cell_type": "markdown",
      "source": [
        "# **ones_like**"
      ],
      "metadata": {
        "id": "hU3OT7QkEsW8"
      }
    },
    {
      "cell_type": "code",
      "source": [
        "original_tensor = tf.constant(\n",
        "    [[1,  2,  3],\n",
        "     [4,  5,  6],\n",
        "     [7,  8,  9]])\n",
        "ones_like_tensor = tf.ones_like(original_tensor)\n",
        "ones_like_tensor"
      ],
      "metadata": {
        "colab": {
          "base_uri": "https://localhost:8080/"
        },
        "id": "sVlVyI-nAwig",
        "outputId": "d5be57b6-8784-450a-87c9-b06679d4d72d"
      },
      "execution_count": null,
      "outputs": [
        {
          "output_type": "execute_result",
          "data": {
            "text/plain": [
              "<tf.Tensor: shape=(3, 3), dtype=int32, numpy=\n",
              "array([[1, 1, 1],\n",
              "       [1, 1, 1],\n",
              "       [1, 1, 1]], dtype=int32)>"
            ]
          },
          "metadata": {},
          "execution_count": 2
        }
      ]
    },
    {
      "cell_type": "markdown",
      "source": [
        "# ***Ones***"
      ],
      "metadata": {
        "id": "7yN3co7hEwKp"
      }
    },
    {
      "cell_type": "code",
      "source": [
        "one_tensor = tf.ones(\n",
        "    [5, 3, 2],\n",
        "    dtype=tf.dtypes.float32,\n",
        "    name=None\n",
        ")\n",
        "one_tensor"
      ],
      "metadata": {
        "colab": {
          "base_uri": "https://localhost:8080/"
        },
        "id": "TVFRD-PcDY69",
        "outputId": "d9337222-f836-4eb7-e2f1-3e733dabe55b"
      },
      "execution_count": null,
      "outputs": [
        {
          "output_type": "execute_result",
          "data": {
            "text/plain": [
              "<tf.Tensor: shape=(5, 3, 2), dtype=float32, numpy=\n",
              "array([[[1., 1.],\n",
              "        [1., 1.],\n",
              "        [1., 1.]],\n",
              "\n",
              "       [[1., 1.],\n",
              "        [1., 1.],\n",
              "        [1., 1.]],\n",
              "\n",
              "       [[1., 1.],\n",
              "        [1., 1.],\n",
              "        [1., 1.]],\n",
              "\n",
              "       [[1., 1.],\n",
              "        [1., 1.],\n",
              "        [1., 1.]],\n",
              "\n",
              "       [[1., 1.],\n",
              "        [1., 1.],\n",
              "        [1., 1.]]], dtype=float32)>"
            ]
          },
          "metadata": {},
          "execution_count": 3
        }
      ]
    },
    {
      "cell_type": "markdown",
      "source": [
        "#**Zeros**"
      ],
      "metadata": {
        "id": "WZPE4nAxF9Nd"
      }
    },
    {
      "cell_type": "code",
      "source": [
        "zeros_tensor = tf.zeros(\n",
        "    [5, 3, 2],\n",
        "    dtype=tf.dtypes.float32,\n",
        "    name=None\n",
        ")\n",
        "zeros_tensor"
      ],
      "metadata": {
        "colab": {
          "base_uri": "https://localhost:8080/"
        },
        "id": "tpy8T9DiFawp",
        "outputId": "ba083dcf-79ac-4aa6-e5ae-d193855df8f1"
      },
      "execution_count": null,
      "outputs": [
        {
          "output_type": "execute_result",
          "data": {
            "text/plain": [
              "<tf.Tensor: shape=(5, 3, 2), dtype=float32, numpy=\n",
              "array([[[0., 0.],\n",
              "        [0., 0.],\n",
              "        [0., 0.]],\n",
              "\n",
              "       [[0., 0.],\n",
              "        [0., 0.],\n",
              "        [0., 0.]],\n",
              "\n",
              "       [[0., 0.],\n",
              "        [0., 0.],\n",
              "        [0., 0.]],\n",
              "\n",
              "       [[0., 0.],\n",
              "        [0., 0.],\n",
              "        [0., 0.]],\n",
              "\n",
              "       [[0., 0.],\n",
              "        [0., 0.],\n",
              "        [0., 0.]]], dtype=float32)>"
            ]
          },
          "metadata": {},
          "execution_count": 4
        }
      ]
    },
    {
      "cell_type": "markdown",
      "source": [
        "### Shape"
      ],
      "metadata": {
        "id": "E9J-9-38GWhU"
      }
    },
    {
      "cell_type": "code",
      "source": [
        "original_tensor = tf.constant(\n",
        "    [[1,  2,  3],\n",
        "     [4,  5,  6],\n",
        "     [7,  8,  9]])\n",
        "print(original_tensor.shape)\n",
        "print(tf.shape(original_tensor))"
      ],
      "metadata": {
        "colab": {
          "base_uri": "https://localhost:8080/"
        },
        "id": "9EEWCb3kGNND",
        "outputId": "9f41398d-7dc6-41b4-f8ac-71574b60f472"
      },
      "execution_count": null,
      "outputs": [
        {
          "output_type": "stream",
          "name": "stdout",
          "text": [
            "(3, 3)\n",
            "tf.Tensor([3 3], shape=(2,), dtype=int32)\n"
          ]
        }
      ]
    },
    {
      "cell_type": "markdown",
      "source": [
        "# **Rank: Returns rank of a tensor**"
      ],
      "metadata": {
        "id": "Kiz4WmjzGjaZ"
      }
    },
    {
      "cell_type": "code",
      "source": [
        "tensor_rank = tf.constant(\n",
        "    [[1,  2,  3],\n",
        "     [4,  5,  6],\n",
        "     [7,  8,  9]])\n",
        "tf.rank(tensor_rank)"
      ],
      "metadata": {
        "colab": {
          "base_uri": "https://localhost:8080/"
        },
        "id": "7Zg8T7NYGa8s",
        "outputId": "d2229cea-a166-49bc-caa4-dbcdb238e53c"
      },
      "execution_count": null,
      "outputs": [
        {
          "output_type": "execute_result",
          "data": {
            "text/plain": [
              "<tf.Tensor: shape=(), dtype=int32, numpy=2>"
            ]
          },
          "metadata": {},
          "execution_count": 6
        }
      ]
    },
    {
      "cell_type": "markdown",
      "source": [
        "#**Size: Num of different elements**"
      ],
      "metadata": {
        "id": "Ewlqo7k7H955"
      }
    },
    {
      "cell_type": "code",
      "source": [
        "tensor_size = tf.constant(\n",
        "    [[1,  2,  3],\n",
        "     [4,  5,  6],\n",
        "     [7,  8,  9]])\n",
        "\n",
        "tf.size(tensor_size)"
      ],
      "metadata": {
        "colab": {
          "base_uri": "https://localhost:8080/"
        },
        "id": "kx9pK0fsGwE0",
        "outputId": "8b09c773-84a0-4141-912c-9c00582d1f09"
      },
      "execution_count": null,
      "outputs": [
        {
          "output_type": "execute_result",
          "data": {
            "text/plain": [
              "<tf.Tensor: shape=(), dtype=int32, numpy=9>"
            ]
          },
          "metadata": {},
          "execution_count": 7
        }
      ]
    },
    {
      "cell_type": "markdown",
      "source": [
        "# **Normal**"
      ],
      "metadata": {
        "id": "yzovzXi0Vs4b"
      }
    },
    {
      "cell_type": "code",
      "source": [
        "tf_normal = tf.random.normal(\n",
        "    [3,3],\n",
        "    mean=0.0,\n",
        "    stddev=1.0,\n",
        "    dtype=tf.dtypes.float32,\n",
        "    seed=None,\n",
        "    name=None\n",
        ")\n",
        "tf_normal"
      ],
      "metadata": {
        "id": "HVonuQiWIGOn",
        "colab": {
          "base_uri": "https://localhost:8080/"
        },
        "outputId": "33a6b705-d663-4f94-f3f0-ef0730e9709a"
      },
      "execution_count": null,
      "outputs": [
        {
          "output_type": "execute_result",
          "data": {
            "text/plain": [
              "<tf.Tensor: shape=(3, 3), dtype=float32, numpy=\n",
              "array([[ 7.9316288e-01,  8.6553556e-01, -1.9717592e-01],\n",
              "       [ 2.2465920e+00, -4.1721080e-04, -2.1613482e-01],\n",
              "       [-5.7420164e-01, -2.2022457e-01, -1.3635434e+00]], dtype=float32)>"
            ]
          },
          "metadata": {},
          "execution_count": 11
        }
      ]
    },
    {
      "cell_type": "code",
      "source": [
        "tf_normal2 = tf.random.normal(\n",
        "    [3,3],\n",
        "    mean=100.0, #!\n",
        "    stddev=1.0,\n",
        "    dtype=tf.dtypes.float32,\n",
        "    seed=None,\n",
        "    name=None\n",
        ")\n",
        "tf_normal2"
      ],
      "metadata": {
        "colab": {
          "base_uri": "https://localhost:8080/"
        },
        "id": "GWlH5PdQW68l",
        "outputId": "7a67ce67-b439-46ec-bbc6-74cf2bb5d24a"
      },
      "execution_count": null,
      "outputs": [
        {
          "output_type": "execute_result",
          "data": {
            "text/plain": [
              "<tf.Tensor: shape=(3, 3), dtype=float32, numpy=\n",
              "array([[100.56024 , 100.444466,  99.96849 ],\n",
              "       [ 98.81578 ,  99.34578 , 101.18261 ],\n",
              "       [100.21295 , 101.20579 ,  99.16629 ]], dtype=float32)>"
            ]
          },
          "metadata": {},
          "execution_count": 13
        }
      ]
    },
    {
      "cell_type": "code",
      "source": [
        "tf_normal3 = tf.random.normal(\n",
        "    [3,3],\n",
        "    mean=100, #!\n",
        "    stddev=1,\n",
        "    dtype=tf.dtypes.float32,\n",
        "    seed=None,\n",
        "    name=None\n",
        ")\n",
        "tf_normal3"
      ],
      "metadata": {
        "colab": {
          "base_uri": "https://localhost:8080/"
        },
        "id": "QvVDsV4jXIkm",
        "outputId": "2f4fabad-0be5-4d53-b4f6-e1674226a69a"
      },
      "execution_count": null,
      "outputs": [
        {
          "output_type": "execute_result",
          "data": {
            "text/plain": [
              "<tf.Tensor: shape=(3, 3), dtype=float32, numpy=\n",
              "array([[ 99.70542 ,  99.585495, 100.38153 ],\n",
              "       [ 99.544846, 101.30557 ,  98.84006 ],\n",
              "       [ 99.85135 ,  99.42676 ,  99.16352 ]], dtype=float32)>"
            ]
          },
          "metadata": {},
          "execution_count": 22
        }
      ]
    },
    {
      "cell_type": "markdown",
      "source": [
        "# **Uniform**"
      ],
      "metadata": {
        "id": "3qPUiF8ocu29"
      }
    },
    {
      "cell_type": "code",
      "source": [
        "tf_uniform = tf.random.uniform(\n",
        "    [3,3],\n",
        "    minval=0,\n",
        "    maxval=None,\n",
        "    dtype=tf.dtypes.float32,\n",
        "    seed=None,\n",
        "    name=None\n",
        ")\n",
        "tf_uniform"
      ],
      "metadata": {
        "colab": {
          "base_uri": "https://localhost:8080/"
        },
        "id": "54uDwFhfatsl",
        "outputId": "9fa71def-6b19-408b-cae7-2bb3db004e1d"
      },
      "execution_count": null,
      "outputs": [
        {
          "output_type": "execute_result",
          "data": {
            "text/plain": [
              "<tf.Tensor: shape=(3, 3), dtype=float32, numpy=\n",
              "array([[0.28917706, 0.7877675 , 0.5562624 ],\n",
              "       [0.15344977, 0.8632604 , 0.24915886],\n",
              "       [0.8246844 , 0.4487188 , 0.94650054]], dtype=float32)>"
            ]
          },
          "metadata": {},
          "execution_count": 24
        }
      ]
    },
    {
      "cell_type": "code",
      "source": [
        "tf_uniform2 = tf.random.uniform(\n",
        "    [3,3],\n",
        "    minval=2, #!\n",
        "    maxval=10, #!\n",
        "    dtype=tf.dtypes.float32,\n",
        "    seed=None,\n",
        "    name=None\n",
        ")\n",
        "tf_uniform2"
      ],
      "metadata": {
        "colab": {
          "base_uri": "https://localhost:8080/"
        },
        "id": "Mlh1loxCc6WS",
        "outputId": "5b79cdc4-db17-4ef2-fe84-1a21e3bbe847"
      },
      "execution_count": null,
      "outputs": [
        {
          "output_type": "execute_result",
          "data": {
            "text/plain": [
              "<tf.Tensor: shape=(3, 3), dtype=float32, numpy=\n",
              "array([[6.5176716, 9.9999075, 5.8382587],\n",
              "       [5.65331  , 4.8939734, 5.3568525],\n",
              "       [2.7444963, 8.1372175, 3.1233387]], dtype=float32)>"
            ]
          },
          "metadata": {},
          "execution_count": 25
        }
      ]
    },
    {
      "cell_type": "code",
      "source": [
        "tf_uniform2 = tf.random.uniform(\n",
        "    [3,3],\n",
        "    minval=2, #!\n",
        "    maxval=8, #!\n",
        "    dtype=tf.dtypes.int32,\n",
        "    seed=None,\n",
        "    name=None\n",
        ")\n",
        "tf_uniform2"
      ],
      "metadata": {
        "colab": {
          "base_uri": "https://localhost:8080/"
        },
        "id": "DqGDpOFadJV-",
        "outputId": "84fccdf6-e904-49a1-a297-76be86f4c2d5"
      },
      "execution_count": null,
      "outputs": [
        {
          "output_type": "execute_result",
          "data": {
            "text/plain": [
              "<tf.Tensor: shape=(3, 3), dtype=int32, numpy=\n",
              "array([[6, 2, 7],\n",
              "       [7, 6, 4],\n",
              "       [4, 7, 2]], dtype=int32)>"
            ]
          },
          "metadata": {},
          "execution_count": 26
        }
      ]
    },
    {
      "cell_type": "markdown",
      "source": [
        "#**Basic Initializing and Casting Indexing**"
      ],
      "metadata": {
        "id": "senFC_wVTYvw"
      }
    },
    {
      "cell_type": "code",
      "source": [
        "tensor_indexed = tf.constant([3, 6, 2, 4 ,6, 66, 7])\n",
        "print(tensor_indexed)\n",
        "print(tensor_indexed[1:4])\n",
        "print(tensor_indexed[:4]) # from 0th to 3rd index\n",
        "print(tensor_indexed[2:]) # 2 to till end\n",
        "print(tensor_indexed[0:-1])"
      ],
      "metadata": {
        "id": "WuQ1DztClffU",
        "colab": {
          "base_uri": "https://localhost:8080/"
        },
        "outputId": "43cc5a9b-ce54-4d37-81c0-f914941a4064"
      },
      "execution_count": 7,
      "outputs": [
        {
          "output_type": "stream",
          "name": "stdout",
          "text": [
            "tf.Tensor([ 3  6  2  4  6 66  7], shape=(7,), dtype=int32)\n",
            "tf.Tensor([6 2 4], shape=(3,), dtype=int32)\n",
            "tf.Tensor([3 6 2 4], shape=(4,), dtype=int32)\n",
            "tf.Tensor([ 2  4  6 66  7], shape=(5,), dtype=int32)\n",
            "tf.Tensor([ 3  6  2  4  6 66], shape=(6,), dtype=int32)\n"
          ]
        }
      ]
    },
    {
      "cell_type": "code",
      "source": [
        "tensor_two_d = tf.constant([[1,2,0],\n",
        "                            [3,5,-1],\n",
        "                            [1,5,6],\n",
        "                            [2,3,8]\n",
        "                            ])\n",
        "print(tensor_two_d)\n",
        "print(\"--------------------------------------\")\n",
        "print(tensor_two_d[0,1])\n",
        "print(\"--------------------------------------\")\n",
        "print(tensor_two_d[2,2])\n",
        "print(\"--------------------------------------\")\n",
        "print(tensor_two_d[0:3,0:2])\n",
        "print(\"--------------------------------------\")\n",
        "print(tensor_two_d[0:3,:])"
      ],
      "metadata": {
        "colab": {
          "base_uri": "https://localhost:8080/"
        },
        "id": "0b-dhGbNTogv",
        "outputId": "f4307250-3341-4477-e2dd-361b32cbcd00"
      },
      "execution_count": 15,
      "outputs": [
        {
          "output_type": "stream",
          "name": "stdout",
          "text": [
            "tf.Tensor(\n",
            "[[ 1  2  0]\n",
            " [ 3  5 -1]\n",
            " [ 1  5  6]\n",
            " [ 2  3  8]], shape=(4, 3), dtype=int32)\n",
            "--------------------------------------\n",
            "tf.Tensor(2, shape=(), dtype=int32)\n",
            "--------------------------------------\n",
            "tf.Tensor(6, shape=(), dtype=int32)\n",
            "--------------------------------------\n",
            "tf.Tensor(\n",
            "[[1 2]\n",
            " [3 5]\n",
            " [1 5]], shape=(3, 2), dtype=int32)\n",
            "--------------------------------------\n",
            "tf.Tensor(\n",
            "[[ 1  2  0]\n",
            " [ 3  5 -1]\n",
            " [ 1  5  6]], shape=(3, 3), dtype=int32)\n"
          ]
        }
      ]
    },
    {
      "cell_type": "code",
      "source": [
        "tensor_three_d = tf.constant([\n",
        "           [[1,  2,  3,  4],\n",
        "            [5,  6,  7,  8],\n",
        "            [9,  10,  11,  12]],\n",
        "\n",
        "          [[13,  14,  15,  16],\n",
        "           [17,  18,  19,  20],\n",
        "           [21,  22,  23,  24]],\n",
        "\n",
        "           [[23,  24,  25,  26],\n",
        "            [27,  28,  29,  30],\n",
        "            [31,  32,  33,  34]],\n",
        "\n",
        "          ])\n",
        "print(tensor_three_d[0,:,:])\n",
        "print(tensor_three_d[1,1,2])\n",
        "print(tensor_three_d[1,1,2])"
      ],
      "metadata": {
        "colab": {
          "base_uri": "https://localhost:8080/"
        },
        "id": "i_jpfmMQViMV",
        "outputId": "fa06844f-a732-4788-9ac1-46c0dda63e85"
      },
      "execution_count": 4,
      "outputs": [
        {
          "output_type": "stream",
          "name": "stdout",
          "text": [
            "tf.Tensor(\n",
            "[[ 1  2  3  4]\n",
            " [ 5  6  7  8]\n",
            " [ 9 10 11 12]], shape=(3, 4), dtype=int32)\n",
            "tf.Tensor(19, shape=(), dtype=int32)\n"
          ]
        }
      ]
    },
    {
      "cell_type": "markdown",
      "source": [
        "# **Math operations**\n"
      ],
      "metadata": {
        "id": "QZ7baT5quFkl"
      }
    },
    {
      "cell_type": "markdown",
      "source": [
        "### Absolute values"
      ],
      "metadata": {
        "id": "d5GkU7OuwL5h"
      }
    },
    {
      "cell_type": "code",
      "source": [
        "# absolute value --> aka Modulus value in physics or math: makes all value +ve\n",
        "x = tf.constant([-2.25,3.24])\n",
        "print(tf.abs(x))\n",
        "\n",
        "# absolute values for complex numbers: if a + bj then (sqrt(a^2 + b^2))\n",
        "x2 = tf.constant([[-2.25 + 4.75j], [-3.25 + 5.75j]])\n",
        "print(tf.abs(x2))"
      ],
      "metadata": {
        "colab": {
          "base_uri": "https://localhost:8080/"
        },
        "id": "FdL_Ee2Oaiy7",
        "outputId": "8ef69517-8f78-423c-e22c-d4c25d7fdcec"
      },
      "execution_count": 7,
      "outputs": [
        {
          "output_type": "stream",
          "name": "stdout",
          "text": [
            "tf.Tensor([2.25 3.24], shape=(2,), dtype=float32)\n",
            "tf.Tensor(\n",
            "[[5.25594901]\n",
            " [6.60492241]], shape=(2, 1), dtype=float64)\n"
          ]
        }
      ]
    },
    {
      "cell_type": "markdown",
      "source": [
        "### Addition, multiply, subtract, division: Element wise"
      ],
      "metadata": {
        "id": "8rMYh8X7wUte"
      }
    },
    {
      "cell_type": "code",
      "source": [
        "x_1 = tf. constant ([5, 3,6,6,4,6], dtype = tf. int32)\n",
        "x_2 = tf. constant ([7,6,2,6,7,11], dtype = tf.int32)\n",
        "print(tf.add(x_1, x_2))\n",
        "print(tf.multiply(x_1, x_2))\n",
        "print(tf.subtract(x_1, x_2))\n",
        "print(tf.divide(x_1, x_2))\n",
        "print(tf.subtract(x_1, x_2))"
      ],
      "metadata": {
        "colab": {
          "base_uri": "https://localhost:8080/"
        },
        "id": "dfqVbt4ZvJX1",
        "outputId": "40d39b1e-998e-49de-ad18-0e6ba83ffe02"
      },
      "execution_count": 11,
      "outputs": [
        {
          "output_type": "stream",
          "name": "stdout",
          "text": [
            "tf.Tensor([12  9  8 12 11 17], shape=(6,), dtype=int32)\n",
            "tf.Tensor([35 18 12 36 28 66], shape=(6,), dtype=int32)\n",
            "tf.Tensor([-2 -3  4  0 -3 -5], shape=(6,), dtype=int32)\n",
            "tf.Tensor([0.71428571 0.5        3.         1.         0.57142857 0.54545455], shape=(6,), dtype=float64)\n"
          ]
        }
      ]
    },
    {
      "cell_type": "code",
      "source": [
        "x_1 = tf.constant( [5,3,6,6,4,6], dtype = tf.float32)\n",
        "x_2 = tf.constant([7,6,2,6,0,11], dtype = tf.float32)\n",
        "print(tf.math.divide_no_nan(x_1, x_2))"
      ],
      "metadata": {
        "colab": {
          "base_uri": "https://localhost:8080/"
        },
        "id": "C2IVnqy6wWQO",
        "outputId": "45806abf-83a6-40c6-a2db-8205afb1b48f"
      },
      "execution_count": 12,
      "outputs": [
        {
          "output_type": "stream",
          "name": "stdout",
          "text": [
            "tf.Tensor([0.71428573 0.5        3.         1.         0.         0.54545456], shape=(6,), dtype=float32)\n"
          ]
        }
      ]
    },
    {
      "cell_type": "code",
      "source": [
        "x_1 = tf.constant([5,3,6,6,4,6], dtype = tf.float32)\n",
        "x_2 = tf.constant([7], dtype = tf.float32)\n",
        "print(tf.math.add(x_1, x_2))"
      ],
      "metadata": {
        "colab": {
          "base_uri": "https://localhost:8080/"
        },
        "id": "m5rGB_f2ysj-",
        "outputId": "7ec10f76-2817-4753-8ced-2fdc89099237"
      },
      "execution_count": 15,
      "outputs": [
        {
          "output_type": "stream",
          "name": "stdout",
          "text": [
            "tf.Tensor([12. 10. 13. 13. 11. 13.], shape=(6,), dtype=float32)\n"
          ]
        }
      ]
    },
    {
      "cell_type": "code",
      "source": [
        "#!\n",
        "x_1 = tf. constant([[5,3,6,6,4,6]], dtype = tf.float32)\n",
        "x_2 = tf. constant([[7], [5], [3]], dtype = tf.float32)\n",
        "print(x_1. shape)\n",
        "print (x_2. shape)\n",
        "print(tf.math.multiply(x_1, x_2))"
      ],
      "metadata": {
        "colab": {
          "base_uri": "https://localhost:8080/"
        },
        "id": "3qggvZVBzBTG",
        "outputId": "59eef027-17f4-4ff7-ff97-f30d5159d71f"
      },
      "execution_count": 18,
      "outputs": [
        {
          "output_type": "stream",
          "name": "stdout",
          "text": [
            "(1, 6)\n",
            "(3, 1)\n",
            "tf.Tensor(\n",
            "[[35. 21. 42. 42. 28. 42.]\n",
            " [25. 15. 30. 30. 20. 30.]\n",
            " [15.  9. 18. 18. 12. 18.]], shape=(3, 6), dtype=float32)\n"
          ]
        }
      ]
    },
    {
      "cell_type": "markdown",
      "source": [
        "### Argmax"
      ],
      "metadata": {
        "id": "Fc6Jm7U80nsV"
      }
    },
    {
      "cell_type": "code",
      "source": [
        "A = tf.constant([1, 20, 30, 3, 6])\n",
        "print(tf.math.argmax(A)) # returns the index of the max element\n",
        "print(tf.math.argmin(A))"
      ],
      "metadata": {
        "colab": {
          "base_uri": "https://localhost:8080/"
        },
        "id": "reJDZ14H0WVB",
        "outputId": "ca5c8310-bdb8-4530-ce20-055290b436c9"
      },
      "execution_count": 23,
      "outputs": [
        {
          "output_type": "stream",
          "name": "stdout",
          "text": [
            "tf.Tensor(2, shape=(), dtype=int64)\n",
            "tf.Tensor(0, shape=(), dtype=int64)\n"
          ]
        }
      ]
    },
    {
      "cell_type": "code",
      "source": [
        "B = tf.constant([[2, 20, 30, 3, 6],\n",
        "                 [3, 11, 16, 1, 8],\n",
        "                 [14, 45, 23, 5, 27]])\n",
        "print(tf.math.argmax(B))\n",
        "print(tf.math.argmin(B, axis = 1))"
      ],
      "metadata": {
        "colab": {
          "base_uri": "https://localhost:8080/"
        },
        "id": "m-wgaGZl0qms",
        "outputId": "48988f67-9fdf-487b-e71c-e6e2407d0517"
      },
      "execution_count": 28,
      "outputs": [
        {
          "output_type": "stream",
          "name": "stdout",
          "text": [
            "tf.Tensor([2 2 0 2 2], shape=(5,), dtype=int64)\n",
            "tf.Tensor([0 3 3], shape=(3,), dtype=int64)\n"
          ]
        }
      ]
    },
    {
      "cell_type": "markdown",
      "source": [
        "### Compare"
      ],
      "metadata": {
        "id": "G0BHXMe16CUT"
      }
    },
    {
      "cell_type": "code",
      "source": [
        "x = tf.constant([2, 4])\n",
        "y = tf.constant(2)\n",
        "tf.math.equal(x, y)"
      ],
      "metadata": {
        "colab": {
          "base_uri": "https://localhost:8080/"
        },
        "id": "Q_xGHRbb1NcC",
        "outputId": "1c13197a-14bc-4bac-a1e5-faccb09abb11"
      },
      "execution_count": 29,
      "outputs": [
        {
          "output_type": "execute_result",
          "data": {
            "text/plain": [
              "<tf.Tensor: shape=(2,), dtype=bool, numpy=array([ True, False])>"
            ]
          },
          "metadata": {},
          "execution_count": 29
        }
      ]
    },
    {
      "cell_type": "code",
      "source": [
        "x = tf.constant([2, 4])\n",
        "y = tf.constant([2, 4])\n",
        "tf.math.equal(x, y)"
      ],
      "metadata": {
        "colab": {
          "base_uri": "https://localhost:8080/"
        },
        "id": "fWSe5CA16MER",
        "outputId": "dc0e0019-9829-4d99-f29b-b49b6d1db7c1"
      },
      "execution_count": 30,
      "outputs": [
        {
          "output_type": "execute_result",
          "data": {
            "text/plain": [
              "<tf.Tensor: shape=(2,), dtype=bool, numpy=array([ True,  True])>"
            ]
          },
          "metadata": {},
          "execution_count": 30
        }
      ]
    },
    {
      "cell_type": "markdown",
      "source": [
        "### Power"
      ],
      "metadata": {
        "id": "Eb-H_pP-6Y2V"
      }
    },
    {
      "cell_type": "code",
      "source": [
        "x = tf.constant([[2, 2], [3, 3]])\n",
        "y = tf.constant([[5, 4], [2, 3]])\n",
        "tf.pow(x, y)"
      ],
      "metadata": {
        "colab": {
          "base_uri": "https://localhost:8080/"
        },
        "id": "RufIo8Im6PJy",
        "outputId": "3eac76d6-3578-49ad-8443-e90b0b6f579f"
      },
      "execution_count": 32,
      "outputs": [
        {
          "output_type": "execute_result",
          "data": {
            "text/plain": [
              "<tf.Tensor: shape=(2, 2), dtype=int32, numpy=\n",
              "array([[32, 16],\n",
              "       [ 9, 27]], dtype=int32)>"
            ]
          },
          "metadata": {},
          "execution_count": 32
        }
      ]
    },
    {
      "cell_type": "code",
      "source": [
        "tf.pow(tf.constant(2), tf.constant(3))"
      ],
      "metadata": {
        "colab": {
          "base_uri": "https://localhost:8080/"
        },
        "id": "i1PZ0Ds16aOx",
        "outputId": "29fcad4b-7d34-4482-847c-6ac92f82d1a2"
      },
      "execution_count": 33,
      "outputs": [
        {
          "output_type": "execute_result",
          "data": {
            "text/plain": [
              "<tf.Tensor: shape=(), dtype=int32, numpy=8>"
            ]
          },
          "metadata": {},
          "execution_count": 33
        }
      ]
    },
    {
      "cell_type": "code",
      "source": [
        "array([[1, 1, 1],\n",
        "       [1, 1, 1]], dtype=int32)"
      ],
      "metadata": {
        "colab": {
          "base_uri": "https://localhost:8080/",
          "height": 200
        },
        "id": "yxX__Igf6o4F",
        "outputId": "94062153-8d33-4fd9-98d5-ec887a9e4409"
      },
      "execution_count": 34,
      "outputs": [
        {
          "output_type": "error",
          "ename": "NameError",
          "evalue": "name 'array' is not defined",
          "traceback": [
            "\u001b[0;31m---------------------------------------------------------------------------\u001b[0m",
            "\u001b[0;31mNameError\u001b[0m                                 Traceback (most recent call last)",
            "\u001b[0;32m<ipython-input-34-bfa82ebca2d0>\u001b[0m in \u001b[0;36m<cell line: 1>\u001b[0;34m()\u001b[0m\n\u001b[0;32m----> 1\u001b[0;31m array([[1, 1, 1],\n\u001b[0m\u001b[1;32m      2\u001b[0m        [1, 1, 1]], dtype=int32)\n",
            "\u001b[0;31mNameError\u001b[0m: name 'array' is not defined"
          ]
        }
      ]
    },
    {
      "cell_type": "code",
      "source": [],
      "metadata": {
        "id": "kdLdF4KW62L1"
      },
      "execution_count": null,
      "outputs": []
    }
  ]
}